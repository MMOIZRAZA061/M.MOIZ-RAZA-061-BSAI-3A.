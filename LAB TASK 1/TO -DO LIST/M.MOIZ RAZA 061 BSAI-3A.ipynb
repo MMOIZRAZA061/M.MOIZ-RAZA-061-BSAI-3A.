{
 "cells": [
  {
   "cell_type": "markdown",
   "id": "62c808e9",
   "metadata": {},
   "source": [
    "### NAME: M.MOIZ RAZA\n",
    "### ROLL NO: SU92-BSAIM-F24-061\n",
    "### SECTION: BSAI-3A\n",
    "### SUBJECT: ARTIFICIAL INTELIGENCE (LAB)"
   ]
  },
  {
   "cell_type": "markdown",
   "id": "c87312a5",
   "metadata": {},
   "source": [
    "# TO-DO LIST"
   ]
  },
  {
   "cell_type": "code",
   "execution_count": null,
   "id": "27fd57c3",
   "metadata": {},
   "outputs": [
    {
     "name": "stdout",
     "output_type": "stream",
     "text": [
      "1. Add task\n",
      "2. Remove task\n",
      "3. Show tasks\n",
      "4. Quit\n",
      " Task added: ttt\n",
      "ttt are added in task\n",
      "1. Add task\n",
      "2. Remove task\n",
      "3. Show tasks\n",
      "4. Quit\n",
      "The index is greater then the length\n",
      "1. Add task\n",
      "2. Remove task\n",
      "3. Show tasks\n",
      "4. Quit\n",
      "The index is greater then the length\n",
      "1. Add task\n",
      "2. Remove task\n",
      "3. Show tasks\n",
      "4. Quit\n",
      " Exiting To-Do List. Goodbye!\n"
     ]
    }
   ],
   "source": [
    "class ToDoList:\n",
    "    def __init__(self):\n",
    "        self.tasks = []\n",
    "\n",
    "    def task_add(self, task):\n",
    "        self.tasks.append(task)\n",
    "        print(f\" Task added: {task}\")\n",
    "        print(f\"{task} are added in task\")\n",
    "\n",
    "    def task_remove(self, task):\n",
    "        if task in self.tasks:\n",
    "            self.tasks.remove(task)\n",
    "            print(f\" Task removed: {task}\")\n",
    "            print(f\"{task} are removed from task list\")\n",
    "        else:\n",
    "            print(\" Task not found!\")\n",
    "\n",
    "    def task_show(self):\n",
    "        inp = int(input(\"enter the number \"))\n",
    "        length = len(self.tasks)\n",
    "        if inp > length:\n",
    "            print(\"The index is greater then the length\")\n",
    "        elif inp <= length:\n",
    "            ind = self.task[inp]\n",
    "            print(f\"you wanna view \", ind)\n",
    "        else:\n",
    "            print(\"Enter a valid number\")\n",
    "\n",
    "    def run(self):\n",
    "        while True:\n",
    "            print(\"1. Add task\")\n",
    "            print(\"2. Remove task\")\n",
    "            print(\"3. Show tasks\")\n",
    "            print(\"4. Quit\")\n",
    "\n",
    "            choice = input(\"Enter your choice: \")\n",
    "\n",
    "            if choice == \"1\":\n",
    "                task = input(\"Enter task: \")\n",
    "                self.task_add(task)\n",
    "\n",
    "            elif choice == \"2\":\n",
    "                if not self.tasks:\n",
    "                    print(\" No tasks to remove!\")\n",
    "                else:\n",
    "                    task = input(\"Enter task to remove: \")\n",
    "                    self.task_remove(task)\n",
    "\n",
    "            elif choice == \"3\":\n",
    "                self.task_show()\n",
    "\n",
    "            elif choice == \"4\":\n",
    "                print(\" Exiting To-Do List. Goodbye!\")\n",
    "                break\n",
    "\n",
    "            else:\n",
    "                print(\" Invalid choice, try again.\")\n",
    "\n",
    "\n",
    "\n",
    "list = ToDoList()\n",
    "list.run()\n"
   ]
  },
  {
   "cell_type": "code",
   "execution_count": 1,
   "id": "67067199",
   "metadata": {},
   "outputs": [
    {
     "name": "stdout",
     "output_type": "stream",
     "text": [
      "1.Add task\n",
      "2.Remove task\n",
      "3.Show task\n",
      "4.Quit\n",
      "1.Add task\n",
      "2.Remove task\n",
      "3.Show task\n",
      "4.Quit\n",
      "Tasks: \n",
      "-ansari\n",
      "1.Add task\n",
      "2.Remove task\n",
      "3.Show task\n",
      "4.Quit\n",
      "Task is not find\n",
      "1.Add task\n",
      "2.Remove task\n",
      "3.Show task\n",
      "4.Quit\n"
     ]
    }
   ],
   "source": [
    "def to_do_list():\n",
    "    tasks=[]\n",
    "    while True:\n",
    "        print(\"1.Add task\")\n",
    "        print(\"2.Remove task\")\n",
    "        print(\"3.Show task\")\n",
    "        print(\"4.Quit\")\n",
    "\n",
    "        choice=input(\"Enter your choice\")\n",
    "\n",
    "        if choice==\"1\":\n",
    "            task=input(\"Enter task:\")\n",
    "            tasks.append(task)\n",
    "\n",
    "        elif choice==\"2\":\n",
    "            task=input(\"Enter your task to remove\")\n",
    "            if task in tasks:\n",
    "                tasks.remove(task)  \n",
    "            else:\n",
    "                print(\"Task is not find\")\n",
    "        elif choice==\"3\":\n",
    "            print(\"Tasks: \")\n",
    "            for task in tasks:\n",
    "                print(\"-\" + task)\n",
    "        elif choice==\"4\":\n",
    "            break\n",
    "        else:\n",
    "            print(\"Invalid\")     \n",
    "            \n",
    "to_do_list()\n"
   ]
  },
  {
   "cell_type": "code",
   "execution_count": null,
   "id": "4addfff8",
   "metadata": {},
   "outputs": [],
   "source": []
  }
 ],
 "metadata": {
  "kernelspec": {
   "display_name": "base",
   "language": "python",
   "name": "python3"
  },
  "language_info": {
   "codemirror_mode": {
    "name": "ipython",
    "version": 3
   },
   "file_extension": ".py",
   "mimetype": "text/x-python",
   "name": "python",
   "nbconvert_exporter": "python",
   "pygments_lexer": "ipython3",
   "version": "3.12.7"
  }
 },
 "nbformat": 4,
 "nbformat_minor": 5
}
